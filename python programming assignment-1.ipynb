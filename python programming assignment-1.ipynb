{
 "cells": [
  {
   "cell_type": "code",
   "execution_count": 1,
   "id": "2178d079",
   "metadata": {},
   "outputs": [
    {
     "name": "stdout",
     "output_type": "stream",
     "text": [
      "Hello Python\n"
     ]
    }
   ],
   "source": [
    "print(\"Hello Python\")"
   ]
  },
  {
   "cell_type": "code",
   "execution_count": 4,
   "id": "011a0e86",
   "metadata": {},
   "outputs": [
    {
     "name": "stdout",
     "output_type": "stream",
     "text": [
      "Enter the first number:22\n",
      "Enter the second number:2\n",
      "The addition of two numbers 22,2 = 24\n",
      "The division of two numbers 22,2 = 11.0\n"
     ]
    }
   ],
   "source": [
    "a = int(input(\"Enter the first number:\"))\n",
    "b = int(input(\"Enter the second number:\"))\n",
    "c = a + b\n",
    "d = a / b\n",
    "print(f\"The addition of two numbers {a},{b} = {c}\")\n",
    "print(f\"The division of two numbers {a},{b} = {d}\")"
   ]
  },
  {
   "cell_type": "code",
   "execution_count": 13,
   "id": "f1eb715e",
   "metadata": {},
   "outputs": [
    {
     "name": "stdout",
     "output_type": "stream",
     "text": [
      "enter the length of first side of triangle:10\n",
      "enter the length of second side of triangle:10\n",
      "enter the length of third side of triangle:10\n",
      "area of the triangle is 43.30127018922193\n"
     ]
    }
   ],
   "source": [
    "\n",
    "a= int(input(\"enter the length of first side of triangle:\"))\n",
    "b= int(input(\"enter the length of second side of triangle:\"))\n",
    "c= int(input(\"enter the length of third side of triangle:\"))\n",
    "s = (a+b+c)/2\n",
    "area = (s*(s-a)*(s-b)*(s-c))**(0.5)\n",
    "print(\"area of the triangle is\",area)"
   ]
  },
  {
   "cell_type": "code",
   "execution_count": 18,
   "id": "864bf9f4",
   "metadata": {},
   "outputs": [
    {
     "name": "stdout",
     "output_type": "stream",
     "text": [
      "Enter the first num:10\n",
      "Enter the second num:20\n",
      "numbers after swapping are :a = 20,b = 10\n"
     ]
    }
   ],
   "source": [
    "a= int(input(\"Enter the first num:\"))\n",
    "b= int(input(\"Enter the second num:\"))\n",
    "(a,b)=(b,a)\n",
    "print(f'numbers after swapping are :a = {a},b = {b}')"
   ]
  },
  {
   "cell_type": "code",
   "execution_count": 24,
   "id": "903a01b6",
   "metadata": {},
   "outputs": [
    {
     "data": {
      "text/plain": [
       "40"
      ]
     },
     "execution_count": 24,
     "metadata": {},
     "output_type": "execute_result"
    }
   ],
   "source": [
    "import random\n",
    "random.randint(1,50)"
   ]
  },
  {
   "cell_type": "code",
   "execution_count": null,
   "id": "c3d0ff70",
   "metadata": {},
   "outputs": [],
   "source": []
  }
 ],
 "metadata": {
  "kernelspec": {
   "display_name": "Python 3 (ipykernel)",
   "language": "python",
   "name": "python3"
  },
  "language_info": {
   "codemirror_mode": {
    "name": "ipython",
    "version": 3
   },
   "file_extension": ".py",
   "mimetype": "text/x-python",
   "name": "python",
   "nbconvert_exporter": "python",
   "pygments_lexer": "ipython3",
   "version": "3.9.12"
  }
 },
 "nbformat": 4,
 "nbformat_minor": 5
}
