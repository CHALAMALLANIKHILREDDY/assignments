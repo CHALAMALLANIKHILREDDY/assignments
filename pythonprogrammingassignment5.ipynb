{
 "cells": [
  {
   "cell_type": "code",
   "execution_count": 1,
   "id": "0bfd471b",
   "metadata": {},
   "outputs": [
    {
     "name": "stdout",
     "output_type": "stream",
     "text": [
      "Enter the first number:15\n",
      "Enter the second number:500\n",
      "LCM of two numbers 15, 500 = 1500\n"
     ]
    }
   ],
   "source": [
    "a = int(input(\"Enter the first number:\"))\n",
    "b = int(input(\"Enter the second number:\"))\n",
    "if(a>b):\n",
    "    max = a\n",
    "else:\n",
    "    max = b\n",
    "while(True):\n",
    "    if((max % a == 0) and (max %b == 0)):\n",
    "        print(f\"LCM of two numbers {a}, {b} = {max}\")\n",
    "        break\n",
    "    max = max +1"
   ]
  },
  {
   "cell_type": "code",
   "execution_count": 2,
   "id": "f31362a8",
   "metadata": {},
   "outputs": [
    {
     "name": "stdout",
     "output_type": "stream",
     "text": [
      "Enter the first number:15\n",
      "Enter the second number:500\n",
      "GCD of two numbers 15, 500 = 5.0\n"
     ]
    }
   ],
   "source": [
    "a = int(input(\"Enter the first number:\"))\n",
    "b = int(input(\"Enter the second number:\"))\n",
    "if(a>b):\n",
    "    max = a\n",
    "else:\n",
    "    max = b\n",
    "while(True):\n",
    "    if((max % a == 0) and (max %b == 0)):\n",
    "        #print(f\"LCM of two numbers {a}, {b} = {max}\")\n",
    "        break\n",
    "    max = max +1\n",
    "gcd = (a*b)/max\n",
    "print(f\"GCD of two numbers {a}, {b} = {gcd}\")"
   ]
  },
  {
   "cell_type": "code",
   "execution_count": 3,
   "id": "815f3bae",
   "metadata": {},
   "outputs": [
    {
     "name": "stdout",
     "output_type": "stream",
     "text": [
      "Enter the value in decimal:55\n",
      "The decimal number is : 55\n",
      "The binary value of the given number is: 0b110111\n",
      "The octal value of the given number is: 0o67\n",
      "The Hexadecimal value of the given number is: 0x37\n"
     ]
    }
   ],
   "source": [
    "a = int(input(\"Enter the value in decimal:\"))\n",
    "print(f\"The decimal number is : {a}\")\n",
    "print(f\"The binary value of the given number is: {bin(a)}\")\n",
    "print(f\"The octal value of the given number is: {oct(a)}\")\n",
    "print(f\"The Hexadecimal value of the given number is: {hex(a)}\")"
   ]
  },
  {
   "cell_type": "code",
   "execution_count": 4,
   "id": "5660b83d",
   "metadata": {},
   "outputs": [
    {
     "name": "stdout",
     "output_type": "stream",
     "text": [
      "Enter the charecter to find ascii value :a\n",
      "The ascii value of the given charecter is: 97\n"
     ]
    }
   ],
   "source": [
    "a = input(\"Enter the charecter to find ascii value :\")\n",
    "print(f\"The ascii value of the given charecter is: {ord(a)}\")"
   ]
  },
  {
   "cell_type": "code",
   "execution_count": 13,
   "id": "8efebb8a",
   "metadata": {},
   "outputs": [
    {
     "name": "stdout",
     "output_type": "stream",
     "text": [
      "Enter the first number to perform operations:55\n",
      "Enter the second number to perform operations: 44\n",
      " operation available to perform:\n",
      " 1.addition\n",
      " 2.substraction\n",
      " 3.multiplication\n",
      " 4.division\n",
      "Select operation number to perform2\n",
      "The substraction of given numbers is: 11\n"
     ]
    }
   ],
   "source": [
    "a = int(input(\"Enter the first number to perform operations:\"))\n",
    "b = int(input(\"Enter the second number to perform operations: \"))\n",
    "print(\" operation available to perform:\\n 1.addition\\n 2.substraction\\n 3.multiplication\\n 4.division\")\n",
    "o = int(input(\"Select operation number to perform\"))\n",
    "if(o == 1):\n",
    "    print(f\"The addition of given numbers is: {a+b}\")\n",
    "elif(o == 2):\n",
    "    print(f\"The substraction of given numbers is: {a-b}\")\n",
    "elif(o == 3):\n",
    "    print(f\"The multiplication of given numbers is: {a*b}\")\n",
    "elif(o == 4):\n",
    "    print(f\"The division of given numbers is: {a/b}\")\n",
    "else:\n",
    "    print(\"Please enter correct operation\")\n"
   ]
  },
  {
   "cell_type": "code",
   "execution_count": null,
   "id": "98d95a4f",
   "metadata": {},
   "outputs": [],
   "source": []
  }
 ],
 "metadata": {
  "kernelspec": {
   "display_name": "Python 3 (ipykernel)",
   "language": "python",
   "name": "python3"
  },
  "language_info": {
   "codemirror_mode": {
    "name": "ipython",
    "version": 3
   },
   "file_extension": ".py",
   "mimetype": "text/x-python",
   "name": "python",
   "nbconvert_exporter": "python",
   "pygments_lexer": "ipython3",
   "version": "3.9.12"
  }
 },
 "nbformat": 4,
 "nbformat_minor": 5
}
