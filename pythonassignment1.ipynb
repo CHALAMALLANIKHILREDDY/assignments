{
 "cells": [
  {
   "cell_type": "markdown",
   "id": "0828e281",
   "metadata": {},
   "source": [
    "* (expression)\n",
    "'hello'( value)\n",
    "-87.8 (value)\n",
    "-(expression)\n",
    "/(expression)\n",
    "+(expression)\n",
    "6(value)"
   ]
  },
  {
   "cell_type": "markdown",
   "id": "87ff06e9",
   "metadata": {},
   "source": [
    "string is a type of data for example the words that we use everyday comes under string. they are enclosed in '' or \"\".\n",
    "A variable is the one which stores data. varable stores any datatype and we can even assign a string without coutes as variables. "
   ]
  },
  {
   "cell_type": "markdown",
   "id": "b967caf5",
   "metadata": {},
   "source": [
    "The three different data typrs are\n",
    "1. int --- This data type represents integers (1,22,44,31,77 --- etc)\n",
    "2. float ----- this represents decimal values\n",
    "3. string ---- this datatype represents words which are enclosed in '' or \"\"(\"nikhil\" , 'ineuron')"
   ]
  },
  {
   "cell_type": "markdown",
   "id": "fc04840f",
   "metadata": {},
   "source": [
    "An expression is made up of values or variables of any datatype combined with mathematical operators. the expression needs to be evaluated."
   ]
  },
  {
   "cell_type": "markdown",
   "id": "621920be",
   "metadata": {},
   "source": [
    "An expression can be evaluated and can be reduced to a single value where as statement cant be reduced to single value \n",
    "FOR example\n",
    "3+4 (Expression)\n",
    "a = 3+4(assignment statement)"
   ]
  },
  {
   "cell_type": "code",
   "execution_count": 3,
   "id": "f60a27c1",
   "metadata": {},
   "outputs": [
    {
     "data": {
      "text/plain": [
       "22"
      ]
     },
     "execution_count": 3,
     "metadata": {},
     "output_type": "execute_result"
    }
   ],
   "source": [
    "bacon = 22\n",
    "bacon +1\n",
    "bacon\n",
    "#becon contains value =22 because we didnot update the value of becon after adding 1"
   ]
  },
  {
   "cell_type": "code",
   "execution_count": 5,
   "id": "e387fdf8",
   "metadata": {},
   "outputs": [
    {
     "data": {
      "text/plain": [
       "'spamspamspam'"
      ]
     },
     "execution_count": 5,
     "metadata": {},
     "output_type": "execute_result"
    }
   ],
   "source": [
    "'spam' + 'spamspam'\n",
    "'spam' * 3\n",
    "#both are same"
   ]
  },
  {
   "cell_type": "markdown",
   "id": "6f273fbb",
   "metadata": {},
   "source": [
    "eggs is a string and can be assigned as a variable as it doesnot have a fixed value, so we can assign any value to it where as 100 is a fixed value and we cannot change its value so we cannot use 100 as a variable "
   ]
  },
  {
   "cell_type": "markdown",
   "id": "b221ece2",
   "metadata": {},
   "source": [
    "the three functions are\n",
    "int(value) ----- to get integer version of the value\n",
    "float(value) ------ to get floating point number\n",
    "str(value) ------ to get string version of the value"
   ]
  },
  {
   "cell_type": "code",
   "execution_count": 8,
   "id": "006bca58",
   "metadata": {},
   "outputs": [
    {
     "data": {
      "text/plain": [
       "'I have eaten99burritos'"
      ]
     },
     "execution_count": 8,
     "metadata": {},
     "output_type": "execute_result"
    }
   ],
   "source": [
    "#'I have eaten'+ 99 +'burritos'\n",
    "# this expression gives typeError as one cannot add a string to integer value \n",
    "# this can be solved by converting the integer into a string\n",
    "'I have eaten '+ str(99) + ' burritos'"
   ]
  },
  {
   "cell_type": "code",
   "execution_count": null,
   "id": "d4dc6685",
   "metadata": {},
   "outputs": [],
   "source": []
  }
 ],
 "metadata": {
  "kernelspec": {
   "display_name": "Python 3 (ipykernel)",
   "language": "python",
   "name": "python3"
  },
  "language_info": {
   "codemirror_mode": {
    "name": "ipython",
    "version": 3
   },
   "file_extension": ".py",
   "mimetype": "text/x-python",
   "name": "python",
   "nbconvert_exporter": "python",
   "pygments_lexer": "ipython3",
   "version": "3.9.12"
  }
 },
 "nbformat": 4,
 "nbformat_minor": 5
}
