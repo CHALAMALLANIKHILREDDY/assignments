{
 "cells": [
  {
   "cell_type": "code",
   "execution_count": 1,
   "id": "1f10c638",
   "metadata": {},
   "outputs": [
    {
     "name": "stdout",
     "output_type": "stream",
     "text": [
      "Enter the number to check:0\n",
      "You have entered Zero\n"
     ]
    }
   ],
   "source": [
    "num = int(input(\"Enter the number to check:\"))\n",
    "\n",
    "    \n",
    "if(num==0):\n",
    "    print(\"You have entered Zero\")\n",
    "elif(num > 0):\n",
    "    print(\"positive\")\n",
    "elif(num < 0):\n",
    "    print(\"negative\")\n",
    "\n"
   ]
  },
  {
   "cell_type": "code",
   "execution_count": 2,
   "id": "f70b1ebb",
   "metadata": {},
   "outputs": [
    {
     "name": "stdout",
     "output_type": "stream",
     "text": [
      "Enter the number to check for even or odd:55\n",
      "odd\n"
     ]
    }
   ],
   "source": [
    "num = int(input(\"Enter the number to check for even or odd:\"))\n",
    "if(num/2 == 0):\n",
    "    print(\"EVEN\")\n",
    "elif(num/2 != 0):\n",
    "    print(\"odd\")"
   ]
  },
  {
   "cell_type": "code",
   "execution_count": 4,
   "id": "e9108ac8",
   "metadata": {},
   "outputs": [
    {
     "name": "stdout",
     "output_type": "stream",
     "text": [
      "Enter the year to find:2000\n",
      "LEAP YEAR\n"
     ]
    }
   ],
   "source": [
    "\n",
    "try:\n",
    "    year = int(input(\"Enter the year to find:\"))\n",
    "    if(year%4 == 0):\n",
    "        if(year%400 == 0):\n",
    "            print(\"LEAP YEAR\")\n",
    "        elif(year%100 == 0):\n",
    "            print(\"NOT A LEAp yEAR\")\n",
    "        else:\n",
    "            print(\"LEAP YEAR\")\n",
    "    else:\n",
    "        print(\"NOT A LEAp yEAR\")\n",
    "except:\n",
    "    print(\"You must have entered non integer please check\")"
   ]
  },
  {
   "cell_type": "code",
   "execution_count": 14,
   "id": "90d23143",
   "metadata": {},
   "outputs": [
    {
     "name": "stdout",
     "output_type": "stream",
     "text": [
      "Enter the number to check for prime:97\n",
      "PRIME NUMBER\n"
     ]
    }
   ],
   "source": [
    "num = int(input(\"Enter the number to check for prime:\"))\n",
    "j = 20\n",
    "for i in range(2,num):\n",
    "    if(num%i == 0):\n",
    "        j = 100\n",
    "        break\n",
    "    #else:\n",
    "        #continue\n",
    "if(j == 100):\n",
    "    print(\"NOT A PRIME NUMBER\")\n",
    "else:\n",
    "    print(\"PRIME NUMBER\")\n",
    "    "
   ]
  },
  {
   "cell_type": "code",
   "execution_count": 5,
   "id": "5fbf7343",
   "metadata": {},
   "outputs": [
    {
     "name": "stdout",
     "output_type": "stream",
     "text": [
      "enter the value to print all the prime numbers below it:50\n",
      "2\n",
      "3\n",
      "5\n",
      "7\n",
      "11\n",
      "13\n",
      "17\n",
      "19\n",
      "23\n",
      "29\n",
      "31\n",
      "37\n",
      "41\n",
      "43\n",
      "47\n"
     ]
    }
   ],
   "source": [
    "num = int(input(\"enter the value to print all the prime numbers below it:\"))\n",
    "print(2)\n",
    "\n",
    "for i in range(3,num+1):\n",
    "    nik = 20\n",
    "    for j in range(2,i):\n",
    "        if(i%j ==0):\n",
    "            nik = nik+1\n",
    "            break\n",
    "    if(nik == 20):\n",
    "        print(i)"
   ]
  },
  {
   "cell_type": "code",
   "execution_count": null,
   "id": "f11fac52",
   "metadata": {},
   "outputs": [],
   "source": []
  },
  {
   "cell_type": "code",
   "execution_count": null,
   "id": "7d4226f7",
   "metadata": {},
   "outputs": [],
   "source": []
  },
  {
   "cell_type": "code",
   "execution_count": null,
   "id": "3123b4d0",
   "metadata": {},
   "outputs": [],
   "source": []
  }
 ],
 "metadata": {
  "kernelspec": {
   "display_name": "Python 3 (ipykernel)",
   "language": "python",
   "name": "python3"
  },
  "language_info": {
   "codemirror_mode": {
    "name": "ipython",
    "version": 3
   },
   "file_extension": ".py",
   "mimetype": "text/x-python",
   "name": "python",
   "nbconvert_exporter": "python",
   "pygments_lexer": "ipython3",
   "version": "3.9.12"
  }
 },
 "nbformat": 4,
 "nbformat_minor": 5
}
