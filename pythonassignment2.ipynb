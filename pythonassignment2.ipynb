{
 "cells": [
  {
   "cell_type": "markdown",
   "id": "803c2439",
   "metadata": {},
   "source": [
    "The two values of Boolean type are True and False and they are generally used as True(1) and False(0) "
   ]
  },
  {
   "cell_type": "markdown",
   "id": "802d8c3d",
   "metadata": {},
   "source": [
    "The three boolean operators are AND, OR, NOT"
   ]
  },
  {
   "cell_type": "markdown",
   "id": "82c9214a",
   "metadata": {},
   "source": [
    "truth table of AND\n",
    "\n",
    "op1     op2     result\n",
    "True    True    True\n",
    "True    False   False\n",
    "False   True    False\n",
    "False   Flase   False\n",
    "\n",
    "truth tabel of OR\n",
    "\n",
    "op1     op2     result\n",
    "True    True    True\n",
    "True    False   True\n",
    "False   True    True\n",
    "False   Flase   False\n",
    "\n",
    "truth table of Not\n",
    "\n",
    "operator       result\n",
    "True           False\n",
    "False          True"
   ]
  },
  {
   "cell_type": "markdown",
   "id": "9b47a17b",
   "metadata": {},
   "source": [
    "(5>4)and(3==5) --------- False\n",
    "not(5>4) --------------- False\n",
    "(5>4)or(3==5)----------- True\n",
    "not((5>4)or(3==5))------ False\n",
    "(True and True)and(true == false) ------- False\n",
    "(not False) or (not true) --------------- True"
   ]
  },
  {
   "cell_type": "markdown",
   "id": "3cecb3e6",
   "metadata": {},
   "source": [
    "The six comparision operators are\n",
    "> -------- Greater than\n",
    "< -------- Less than\n",
    ">= ------- Greater than or equal\n",
    "<= ------- Less than or equal\n",
    "== ------- Equal\n",
    "!= ------- Not Equal"
   ]
  },
  {
   "cell_type": "markdown",
   "id": "ebdd06e7",
   "metadata": {},
   "source": [
    "Equal to is a comparison operator which will compare if both the values on either side of the operator are same or not and will return True if both are Equal and will return False if they are not Equal This is represented as (==)\n",
    "Assignment operator is represented as (=) , this will assign the value on the RHS to the varible on the LHS. "
   ]
  },
  {
   "cell_type": "markdown",
   "id": "ae6db199",
   "metadata": {},
   "source": [
    "The Three conditions here represents three blocks i.e., two 'if' blocks and 1 'Else' block"
   ]
  },
  {
   "cell_type": "code",
   "execution_count": 2,
   "id": "fe142729",
   "metadata": {},
   "outputs": [
    {
     "name": "stdout",
     "output_type": "stream",
     "text": [
      "Enter the number8\n",
      "Greetings!\n"
     ]
    }
   ],
   "source": [
    "spam = int(input(\"Enter the number\"))\n",
    "if(spam == 1):\n",
    "    print(\"Hello\")\n",
    "elif(spam == 2):\n",
    "    print(\"Howdy\")\n",
    "else:\n",
    "    print(\"Greetings!\")"
   ]
  },
  {
   "cell_type": "markdown",
   "id": "121df87a",
   "metadata": {},
   "source": [
    "ctrl+C"
   ]
  },
  {
   "cell_type": "markdown",
   "id": "ebae24ad",
   "metadata": {},
   "source": [
    "once we execute \"break\" statement it will take you out of that loop and will execute the statements outside the loop\n",
    "continue statement will take you back to the loop and will execute loop once again. continue statement will be used if we dont want to print a particular number out of a group we can use continue"
   ]
  },
  {
   "cell_type": "markdown",
   "id": "1126bad8",
   "metadata": {},
   "source": [
    "range(10), range(0,10), range(0,10,1) will give you the same result and are same . These are just the different types of notations for same result"
   ]
  },
  {
   "cell_type": "code",
   "execution_count": 3,
   "id": "8b40c6a6",
   "metadata": {},
   "outputs": [
    {
     "name": "stdout",
     "output_type": "stream",
     "text": [
      "1\n",
      "2\n",
      "3\n",
      "4\n",
      "5\n",
      "6\n",
      "7\n",
      "8\n",
      "9\n",
      "10\n"
     ]
    }
   ],
   "source": [
    "for i in range(1,11):\n",
    "    print(i)"
   ]
  },
  {
   "cell_type": "code",
   "execution_count": 5,
   "id": "55c1baed",
   "metadata": {},
   "outputs": [
    {
     "name": "stdout",
     "output_type": "stream",
     "text": [
      "1\n",
      "2\n",
      "3\n",
      "4\n",
      "5\n",
      "6\n",
      "7\n",
      "8\n",
      "9\n",
      "10\n"
     ]
    }
   ],
   "source": [
    "i = 1\n",
    "while(i<11):\n",
    "    print(i)\n",
    "    i = i+1"
   ]
  },
  {
   "cell_type": "markdown",
   "id": "fcb90f1f",
   "metadata": {},
   "source": [
    "import spam\n",
    "spam.bacon()"
   ]
  }
 ],
 "metadata": {
  "kernelspec": {
   "display_name": "Python 3 (ipykernel)",
   "language": "python",
   "name": "python3"
  },
  "language_info": {
   "codemirror_mode": {
    "name": "ipython",
    "version": 3
   },
   "file_extension": ".py",
   "mimetype": "text/x-python",
   "name": "python",
   "nbconvert_exporter": "python",
   "pygments_lexer": "ipython3",
   "version": "3.9.12"
  }
 },
 "nbformat": 4,
 "nbformat_minor": 5
}
