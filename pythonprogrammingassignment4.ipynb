{
 "cells": [
  {
   "cell_type": "code",
   "execution_count": 3,
   "id": "e1c02035",
   "metadata": {},
   "outputs": [
    {
     "name": "stdout",
     "output_type": "stream",
     "text": [
      "Enter the number to find factorial5\n",
      "120\n"
     ]
    }
   ],
   "source": [
    "num = int(input(\"Enter the number to find factorial \"))\n",
    "f = 1\n",
    "for i in range(1,num+1):\n",
    "    f= f*i\n",
    "print(f)\n",
    "    "
   ]
  },
  {
   "cell_type": "code",
   "execution_count": 5,
   "id": "a3d938c7",
   "metadata": {},
   "outputs": [
    {
     "name": "stdout",
     "output_type": "stream",
     "text": [
      "Enter the number to print multiplication table:5\n",
      "5*1 = 5\n",
      "5*2 = 10\n",
      "5*3 = 15\n",
      "5*4 = 20\n",
      "5*5 = 25\n",
      "5*6 = 30\n",
      "5*7 = 35\n",
      "5*8 = 40\n",
      "5*9 = 45\n",
      "5*10 = 50\n"
     ]
    }
   ],
   "source": [
    "num = int(input(\"Enter the number to print multiplication table:\"))\n",
    "for i in range(1,11):\n",
    "    print(f'{num}*{i} = {num*i}')"
   ]
  },
  {
   "cell_type": "code",
   "execution_count": 7,
   "id": "88f3fcac",
   "metadata": {},
   "outputs": [
    {
     "name": "stdout",
     "output_type": "stream",
     "text": [
      "Enter the number of terms you need in fibonnaci series10\n",
      "1\n",
      "1\n",
      "2\n",
      "3\n",
      "5\n",
      "8\n",
      "13\n",
      "21\n",
      "34\n",
      "55\n"
     ]
    }
   ],
   "source": [
    "a = 1\n",
    "b = 1\n",
    "count = 2\n",
    "num = int(input(\"Enter the number of terms you need in fibonnaci series\"))\n",
    "print(a)\n",
    "print(b)\n",
    "while(count<num):\n",
    "    c = a+b\n",
    "    a = b\n",
    "    b = c\n",
    "    print(c)\n",
    "    count = count+1"
   ]
  },
  {
   "cell_type": "code",
   "execution_count": 19,
   "id": "dd6b78b2",
   "metadata": {},
   "outputs": [
    {
     "name": "stdout",
     "output_type": "stream",
     "text": [
      "Enter the number to check amstrong 371\n",
      "AMSTRONG NUMBER\n"
     ]
    }
   ],
   "source": [
    "num = int(input(\"Enter the number to check amstrong \"))\n",
    "n = num\n",
    "rev = 0\n",
    "while(num>0):\n",
    "    p = num%10\n",
    "    num = int(num/10)\n",
    "    rev = rev + p*p*p\n",
    "if(n == rev):\n",
    "    print(\"AMSTRONG NUMBER\")\n",
    "else:\n",
    "    print(\"NOT Amstroong number\")\n",
    "\n"
   ]
  },
  {
   "cell_type": "code",
   "execution_count": 20,
   "id": "ccc5eae9",
   "metadata": {},
   "outputs": [
    {
     "name": "stdout",
     "output_type": "stream",
     "text": [
      "Enter the number to find sum till that number 10\n",
      "55\n"
     ]
    }
   ],
   "source": [
    "num = int(input(\"Enter the number to find sum till that number \"))\n",
    "sum = 0\n",
    "for i in range(num+1):\n",
    "    sum = sum+i\n",
    "print(sum)"
   ]
  },
  {
   "cell_type": "code",
   "execution_count": null,
   "id": "af5cbd6c",
   "metadata": {},
   "outputs": [],
   "source": []
  }
 ],
 "metadata": {
  "kernelspec": {
   "display_name": "Python 3 (ipykernel)",
   "language": "python",
   "name": "python3"
  },
  "language_info": {
   "codemirror_mode": {
    "name": "ipython",
    "version": 3
   },
   "file_extension": ".py",
   "mimetype": "text/x-python",
   "name": "python",
   "nbconvert_exporter": "python",
   "pygments_lexer": "ipython3",
   "version": "3.9.12"
  }
 },
 "nbformat": 4,
 "nbformat_minor": 5
}
